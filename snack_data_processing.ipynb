{
 "cells": [
  {
   "cell_type": "markdown",
   "id": "2b8b3854",
   "metadata": {},
   "source": [
    "# Amazon Bestselling Snack Products - Data Processing"
   ]
  },
  {
   "cell_type": "code",
   "execution_count": 4,
   "id": "962f565d-6efd-42b7-9dc0-717829ee5bb5",
   "metadata": {},
   "outputs": [],
   "source": [
    "import csv\n",
    "import re\n",
    "from collections import Counter"
   ]
  },
  {
   "cell_type": "markdown",
   "id": "e2b4bfca",
   "metadata": {},
   "source": [
    "#### Get raw data"
   ]
  },
  {
   "cell_type": "code",
   "execution_count": 5,
   "id": "33ed0327-4ac2-4bd0-a20e-1e76314e60cc",
   "metadata": {},
   "outputs": [],
   "source": [
    "with open('amazon_snacks_scraped_data.csv', newline='', encoding='utf-8') as datafile:\n",
    "    reader = csv.DictReader(datafile)\n",
    "\n",
    "    raw_data = []\n",
    "    for row in reader:\n",
    "        raw_data.append(row)"
   ]
  },
  {
   "cell_type": "markdown",
   "id": "197f14b9",
   "metadata": {},
   "source": [
    "#### Clean data"
   ]
  },
  {
   "cell_type": "code",
   "execution_count": 6,
   "id": "9b191f48-4867-4775-bb1b-d9e808080d68",
   "metadata": {},
   "outputs": [],
   "source": [
    "class data_cleaner:\n",
    "    def __init__(self, raw_row):\n",
    "        self.raw_row = raw_row\n",
    "        self.clean_row = {}\n",
    "\n",
    "    def add_full_title(self):\n",
    "        self.clean_row.update({'title': self.raw_row['title']})\n",
    "\n",
    "    def add_simplified_title(self):\n",
    "        raw_title = self.raw_row['title']\n",
    "        \n",
    "        if raw_title.find('|') > -1:\n",
    "            simplified_title = raw_title.split('|')[0]\n",
    "        elif raw_title.find(' - ') > -1:\n",
    "            simplified_title = raw_title.split(' - ')[0]\n",
    "        elif raw_title.find(',') > -1:\n",
    "            simplified_title = raw_title.split(',')[0]\n",
    "        elif raw_title.find(';') > -1:\n",
    "            simplified_title = raw_title.split(';')[0]\n",
    "        else:\n",
    "            simplified_title = raw_title\n",
    "        self.clean_row.update({'simplified_title': simplified_title})\n",
    "\n",
    "    def add_list_price(self):\n",
    "        self.clean_row.update({'list_price': self.raw_row['list_price']})\n",
    "\n",
    "    def add_sale_price(self):\n",
    "        self.clean_row.update({'sale_price': self.raw_row['sale_price']})\n",
    "\n",
    "    def add_has_deal(self):\n",
    "        self.clean_row.update({'has_deal': self.raw_row['has_deal']})\n",
    "\n",
    "    def add_deal_discount(self):\n",
    "        if self.clean_row['has_deal'] == 'TRUE':\n",
    "            deal_discount = round((1 - float(self.clean_row['sale_price']) / float(self.clean_row['list_price'])) * 100)\n",
    "            self.clean_row.update({'deal_discount': deal_discount})\n",
    "        else:\n",
    "            self.clean_row.update({'deal_discount': ''})\n",
    "\n",
    "    def add_has_coupon(self):\n",
    "        self.clean_row.update({'has_coupon': self.raw_row['has_coupon']})\n",
    "        \n",
    "    def add_rating(self):\n",
    "        self.clean_row.update({'rating': self.raw_row['rating']})\n",
    "\n",
    "    def add_reviews_count(self):\n",
    "        self.clean_row.update({'reviews_count': self.raw_row['reviews_count']})\n",
    "\n",
    "    def add_bsr(self):\n",
    "        self.clean_row.update({'bsr': self.raw_row['bsr']})\n",
    "\n",
    "    def add_category(self):\n",
    "        category = self.raw_row['categories'].splitlines()[-2]\n",
    "        self.clean_row.update({'category': category})\n",
    "\n",
    "    def add_subcategory(self):\n",
    "        subcategory = self.raw_row['categories'].splitlines()[-1]\n",
    "        self.clean_row.update({'subcategory': subcategory})"
   ]
  },
  {
   "cell_type": "code",
   "execution_count": 7,
   "id": "60d11f6f-d8f0-4628-b494-5d0cafffc74b",
   "metadata": {},
   "outputs": [],
   "source": [
    "clean_data = []\n",
    "\n",
    "for raw_row in raw_data:\n",
    "    cleaner = data_cleaner(raw_row)\n",
    "\n",
    "    cleaner.add_full_title()\n",
    "    cleaner.add_simplified_title()\n",
    "    cleaner.add_list_price()\n",
    "    cleaner.add_sale_price()\n",
    "    cleaner.add_has_deal()\n",
    "    cleaner.add_has_coupon()\n",
    "    cleaner.add_deal_discount()\n",
    "    cleaner.add_rating()\n",
    "    cleaner.add_reviews_count()\n",
    "    cleaner.add_bsr()\n",
    "    cleaner.add_category()\n",
    "    cleaner.add_subcategory()\n",
    "    \n",
    "    clean_data.append(cleaner.clean_row)"
   ]
  },
  {
   "cell_type": "markdown",
   "id": "dca18e25",
   "metadata": {},
   "source": [
    "#### Write cleaned data"
   ]
  },
  {
   "cell_type": "code",
   "execution_count": 15,
   "id": "68e0297f-f401-4d61-bc2d-535cd12a5079",
   "metadata": {},
   "outputs": [],
   "source": [
    "with open('clean_data\\cleaned_amazon_snacks_data.csv', 'w', newline='', encoding='utf-8') as csvfile:\n",
    "    fields = [\n",
    "        'bsr',\n",
    "        'title',\n",
    "        'simplified_title',\n",
    "        'list_price',\n",
    "        'sale_price',\n",
    "        'has_coupon',\n",
    "        'has_deal',\n",
    "        'deal_discount',\n",
    "        'rating',\n",
    "        'reviews_count',\n",
    "        'category',\n",
    "        'subcategory']\n",
    "    writer = csv.DictWriter(csvfile, fields)\n",
    "\n",
    "    writer.writeheader()\n",
    "    for row in clean_data:\n",
    "        writer.writerow(row)"
   ]
  },
  {
   "cell_type": "markdown",
   "id": "c51961bc",
   "metadata": {},
   "source": [
    "#### Analyze title word counts"
   ]
  },
  {
   "cell_type": "code",
   "execution_count": 9,
   "id": "290fe04f-b291-4206-b3fd-41faa6c4d811",
   "metadata": {},
   "outputs": [],
   "source": [
    "def get_words(title):\n",
    "    useless_words = {'the', 'an', 'a', 'and', 'or', 'of', 'for', 'on', 'to', 'per', 'with', 'by', 'lb',\n",
    "                     'oz', 'ounce', 'ounces', 'count', 'ct', 'snack', 'snacks', 'may', 'vary', '&', '-', '|'}\n",
    "    title_words = set([word.strip('.,()/*') for word in title.lower().split()])\n",
    "    filtered_title_words = [word for word in title_words if word not in useless_words]\n",
    "    return filtered_title_words"
   ]
  },
  {
   "cell_type": "code",
   "execution_count": 22,
   "id": "ff62e0d0",
   "metadata": {},
   "outputs": [],
   "source": [
    "word_counts = {}\n",
    "for row in clean_data:\n",
    "    category = row['category']\n",
    "    \n",
    "    if not word_counts.get(category):\n",
    "        word_counts.update({category: Counter()})\n",
    "\n",
    "    title_words = get_words(row['title'])\n",
    "    word_counts[category].update(title_words)"
   ]
  },
  {
   "cell_type": "markdown",
   "id": "c9b45376",
   "metadata": {},
   "source": [
    "#### Write title word counts"
   ]
  },
  {
   "cell_type": "code",
   "execution_count": 23,
   "id": "9b6b0e35",
   "metadata": {},
   "outputs": [],
   "source": [
    "with open('clean_data\\\\title_word_counts.csv', 'w', newline='', encoding='utf-8') as csvfile:\n",
    "    fields = ['category', 'word', 'count']\n",
    "    writer = csv.DictWriter(csvfile, fields, restval=0)\n",
    "\n",
    "    for category, word_count in word_counts.items():\n",
    "        for word, ct in word_count.items():\n",
    "            row = {'category': category, 'word': word, 'count': ct}\n",
    "            writer.writerow(row)"
   ]
  }
 ],
 "metadata": {
  "kernelspec": {
   "display_name": "Python 3 (ipykernel)",
   "language": "python",
   "name": "python3"
  },
  "language_info": {
   "codemirror_mode": {
    "name": "ipython",
    "version": 3
   },
   "file_extension": ".py",
   "mimetype": "text/x-python",
   "name": "python",
   "nbconvert_exporter": "python",
   "pygments_lexer": "ipython3",
   "version": "3.11.1"
  }
 },
 "nbformat": 4,
 "nbformat_minor": 5
}
